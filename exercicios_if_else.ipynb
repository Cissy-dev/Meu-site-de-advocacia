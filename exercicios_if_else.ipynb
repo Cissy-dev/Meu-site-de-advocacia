{
  "nbformat": 4,
  "nbformat_minor": 0,
  "metadata": {
    "colab": {
      "provenance": [],
      "authorship_tag": "ABX9TyM/Jkt8rJmKFG+aWBp0hL8L",
      "include_colab_link": true
    },
    "kernelspec": {
      "name": "python3",
      "display_name": "Python 3"
    },
    "language_info": {
      "name": "python"
    }
  },
  "cells": [
    {
      "cell_type": "markdown",
      "metadata": {
        "id": "view-in-github",
        "colab_type": "text"
      },
      "source": [
        "<a href=\"https://colab.research.google.com/github/Cissy-dev/Meu-site-de-advocacia/blob/main/exercicios_if_else.ipynb\" target=\"_parent\"><img src=\"https://colab.research.google.com/assets/colab-badge.svg\" alt=\"Open In Colab\"/></a>"
      ]
    },
    {
      "cell_type": "code",
      "execution_count": null,
      "metadata": {
        "colab": {
          "base_uri": "https://localhost:8080/"
        },
        "id": "D9Drv7fxhWTV",
        "outputId": "8317d1d6-c538-4636-ec82-1edc6f62087c"
      },
      "outputs": [
        {
          "output_type": "stream",
          "name": "stdout",
          "text": [
            "Digite um número:20\n",
            "Digite outro número:30\n",
            "O segundo, 30, é maior\n"
          ]
        }
      ],
      "source": [
        "#Faça um programa que peça dois números e imprima o maior deles\n",
        "num1=int(input('Digite um número:'))\n",
        "num2=int(input('Digite outro número:'))\n",
        "if num1 > num2:\n",
        "    print('O primeiro, %d, é maior' %num1)\n",
        "elif num1 == num2:\n",
        "    print('Os números são iguais')\n",
        "else:\n",
        "    print(\"O segundo, %d, é maior\" %num2)\n"
      ]
    },
    {
      "cell_type": "code",
      "source": [
        "# variáveis contadoras (for)\n",
        "contador = 0\n",
        "for numero in range(100):\n",
        "    if(numero %2) ==0:\n",
        "      contador +=1\n",
        "print(contador)"
      ],
      "metadata": {
        "colab": {
          "base_uri": "https://localhost:8080/"
        },
        "id": "DOCywbEBStok",
        "outputId": "878f9065-147b-46d0-83c2-53a58fe72c2a"
      },
      "execution_count": null,
      "outputs": [
        {
          "output_type": "stream",
          "name": "stdout",
          "text": [
            "50\n"
          ]
        }
      ]
    },
    {
      "cell_type": "code",
      "source": [
        "acumulador = 0\n",
        "for numero in range(100):\n",
        "      if(numero %2)==0:\n",
        "        acumulador +=numero\n",
        "print (acumulador)\n"
      ],
      "metadata": {
        "colab": {
          "base_uri": "https://localhost:8080/"
        },
        "id": "55siTrTsVle3",
        "outputId": "9714d077-0904-4e44-e374-a71a264382c9"
      },
      "execution_count": null,
      "outputs": [
        {
          "output_type": "stream",
          "name": "stdout",
          "text": [
            "2450\n"
          ]
        }
      ]
    },
    {
      "cell_type": "code",
      "source": [
        "2 == \"1\"\n",
        "2 > 1\n",
        "2 < 1\n",
        "\n"
      ],
      "metadata": {
        "colab": {
          "base_uri": "https://localhost:8080/"
        },
        "id": "xSA9Tmxjs41k",
        "outputId": "d0025ea2-f702-4316-fd6a-7d1dc76cbdbe"
      },
      "execution_count": null,
      "outputs": [
        {
          "output_type": "execute_result",
          "data": {
            "text/plain": [
              "False"
            ]
          },
          "metadata": {},
          "execution_count": 3
        }
      ]
    },
    {
      "cell_type": "code",
      "source": [
        "a = 7\n",
        "b = 6\n",
        "print (a+b)\n"
      ],
      "metadata": {
        "colab": {
          "base_uri": "https://localhost:8080/"
        },
        "id": "zAEr8isGuetN",
        "outputId": "079a934f-a232-47f6-e815-afbcd7d43fcd"
      },
      "execution_count": null,
      "outputs": [
        {
          "output_type": "stream",
          "name": "stdout",
          "text": [
            "13\n"
          ]
        }
      ]
    },
    {
      "cell_type": "code",
      "source": [
        "temp = int(input('Entre com a temperatura:'))\n",
        "\n",
        "if temp < 5:\n",
        "  print (\"Congelando\")\n",
        "elif 0 <= temp <= 10:\n",
        "  print (\"frio\")\n",
        "elif 20 <= temp <=25:\n",
        "  print (\"Normal\")\n",
        "elif 26 <= temp <= 35:\n",
        "  print (\"Quente\")\n",
        "else:\n",
        "  print ('Muito quente!')\n"
      ],
      "metadata": {
        "colab": {
          "base_uri": "https://localhost:8080/"
        },
        "id": "B44-tOEXu18a",
        "outputId": "d0812d25-beaa-4e1d-cb65-b8efbcfa2edd"
      },
      "execution_count": null,
      "outputs": [
        {
          "output_type": "stream",
          "name": "stdout",
          "text": [
            "Entre com a temperatura:33\n",
            "Quente\n"
          ]
        }
      ]
    },
    {
      "cell_type": "code",
      "source": [
        "#testexyz\n",
        "x = int(input (\"por favor digite um número inteiro\"))\n",
        "y = int(input (\"Por favor digite outro número inteiro\"))\n",
        "z = int(input(\"Por favor digite um terceiro número inteiro\"))\n",
        "\n",
        "if y>x:\n",
        "  if z>y:\n",
        "    print(z, \"é maior\")\n",
        "  else:\n",
        "    print(y, \"é maior\")\n",
        "else:\n",
        "  if z>x:\n",
        "    print(z, \"é maior\")\n",
        "  else:\n",
        "    print(x, \"é maior\")"
      ],
      "metadata": {
        "colab": {
          "base_uri": "https://localhost:8080/"
        },
        "id": "knm7KJluwQbV",
        "outputId": "abdf8a1f-1512-4d07-9309-ade657bb3317"
      },
      "execution_count": null,
      "outputs": [
        {
          "output_type": "stream",
          "name": "stdout",
          "text": [
            "por favor digite um número inteiro52\n",
            "Por favor digite outro número inteiro43\n",
            "Por favor digite um terceiro número inteiro10\n",
            "52 é maior\n"
          ]
        }
      ]
    },
    {
      "cell_type": "code",
      "execution_count": null,
      "metadata": {
        "colab": {
          "base_uri": "https://localhost:8080/"
        },
        "id": "EsZGEkkshfcL",
        "outputId": "1605f950-8b6f-4929-fe7e-dec3287611a9"
      },
      "outputs": [
        {
          "output_type": "stream",
          "name": "stdout",
          "text": [
            "Digite um número:19\n",
            "O número é positivo\n"
          ]
        }
      ],
      "source": [
        "#Faça um script que peça um valor e mostre na tela se o valor é positivo ou negativo\n",
        "num=int(input('Digite um número:'))\n",
        "if num >= 0:\n",
        "    print('O número é positivo')\n",
        "else:\n",
        "    print('O número é negativo')\n"
      ]
    },
    {
      "cell_type": "code",
      "source": [
        "from re import M\n",
        "#Crie um programa que verifique se uma letra digitada é \"F\" ou \"M\". Conforme a lebra escrever: F - Feminino, M - Masculino, Sexo inválido.\n",
        "sexo=input('Digite seu sexo:')\n",
        "if sexo == \"F\":\n",
        "    print(\"Feminino\")\n",
        "elif sexo == \"M\":\n",
        "    print(\"Masculino\")\n",
        "else:\n",
        "    print(\"Sexo inválido\")\n"
      ],
      "metadata": {
        "colab": {
          "base_uri": "https://localhost:8080/"
        },
        "id": "JHFo7DoHhghQ",
        "outputId": "7c1b878a-1894-44fd-b547-bb69f5486e4d"
      },
      "execution_count": null,
      "outputs": [
        {
          "output_type": "stream",
          "name": "stdout",
          "text": [
            "Digite seu sexo:k\n",
            "Sexo inválido\n"
          ]
        }
      ]
    },
    {
      "cell_type": "code",
      "source": [
        "a = input(\"Digite sua nota\")\n",
        "nota = float (a)\n",
        "\n",
        "if nota >=7.0:\n",
        "  print(\"Você está aprovado por média.\")\n",
        "elif nota>9.0:\n",
        "  print (\"Parabéns\")\n",
        "  print (\"Boas Férias\")\n",
        "elif nota >=4:\n",
        "  print (\"Você pode fazer R2.\");\n",
        "  print (\"Venha na próxima semana\")\n",
        "else:\n",
        "  print (\"Você está reprovado!\")\n",
        "  print (\"Você não pode fazer R2.\")\n",
        "print (\"Acabou.\")"
      ],
      "metadata": {
        "colab": {
          "base_uri": "https://localhost:8080/"
        },
        "id": "WrzOOS6CzEUx",
        "outputId": "a872507c-6d49-4ee1-c1d4-ff6382394347"
      },
      "execution_count": null,
      "outputs": [
        {
          "output_type": "stream",
          "name": "stdout",
          "text": [
            "Digite sua nota5\n",
            "Você pode fazer R2.\n",
            "Venha na próxima semana\n",
            "Acabou.\n"
          ]
        }
      ]
    },
    {
      "cell_type": "code",
      "source": [
        "a = input(\"Digite sua nota.\")\n",
        "nota = float (a)\n",
        "if nota >4 and nota <=6.9:\n",
        "  print(\"Você terá que fazer R2\")\n"
      ],
      "metadata": {
        "colab": {
          "base_uri": "https://localhost:8080/"
        },
        "id": "jO_lRviZ1xcS",
        "outputId": "d17820fa-4ac0-488e-98e0-201f35791ef8"
      },
      "execution_count": null,
      "outputs": [
        {
          "output_type": "stream",
          "name": "stdout",
          "text": [
            "Digite sua nota.5\n",
            "Você terá que fazer R2\n"
          ]
        }
      ]
    },
    {
      "cell_type": "code",
      "source": [
        "#Formulario\n",
        "nome=input('Digite seu nome:')\n",
        "idade=intinput('Digite sua idade:')\n",
        "\n",
        "idade = 18\n",
        "if idade >= 18:\n",
        "  print('Maior de idade')\n",
        "else:\n",
        "  print('Menor de idade')\n",
        "  print('Não é permitida sua inscrição!')\n",
        "\n",
        "sexo=str(input(\"Digite (F) - Feminino, (M) - Masculino:\").upper())\n",
        "\n",
        "if sexo=='M':\n",
        "  print('Sexo Masculino.')\n",
        "  print(\"Número CAM:\")\n",
        "elif sexo=='F':\n",
        "  print('Sexo Feminino')\n",
        "else:\n",
        "  print('Sexo Inválido')"
      ],
      "metadata": {
        "colab": {
          "base_uri": "https://localhost:8080/",
          "height": 408
        },
        "id": "zJtHOArd8qiH",
        "outputId": "17a45361-38af-4d94-aa7b-307538659f03"
      },
      "execution_count": null,
      "outputs": [
        {
          "output_type": "stream",
          "name": "stdout",
          "text": [
            "Digite seu nome:Altair\n",
            "Digite sua idade:12\n",
            "Maior de idade\n"
          ]
        },
        {
          "output_type": "error",
          "ename": "KeyboardInterrupt",
          "evalue": "Interrupted by user",
          "traceback": [
            "\u001b[0;31m---------------------------------------------------------------------------\u001b[0m",
            "\u001b[0;31mKeyboardInterrupt\u001b[0m                         Traceback (most recent call last)",
            "\u001b[0;32m<ipython-input-27-cd6840d5d76f>\u001b[0m in \u001b[0;36m<cell line: 12>\u001b[0;34m()\u001b[0m\n\u001b[1;32m     10\u001b[0m   \u001b[0mprint\u001b[0m\u001b[0;34m(\u001b[0m\u001b[0;34m'Não é permitida sua inscrição!'\u001b[0m\u001b[0;34m)\u001b[0m\u001b[0;34m\u001b[0m\u001b[0;34m\u001b[0m\u001b[0m\n\u001b[1;32m     11\u001b[0m \u001b[0;34m\u001b[0m\u001b[0m\n\u001b[0;32m---> 12\u001b[0;31m \u001b[0msexo\u001b[0m\u001b[0;34m=\u001b[0m\u001b[0mstr\u001b[0m\u001b[0;34m(\u001b[0m\u001b[0minput\u001b[0m\u001b[0;34m(\u001b[0m\u001b[0;34m\"Digite (F) - Feminino, (M) - Masculino:\"\u001b[0m\u001b[0;34m)\u001b[0m\u001b[0;34m.\u001b[0m\u001b[0mupper\u001b[0m\u001b[0;34m(\u001b[0m\u001b[0;34m)\u001b[0m\u001b[0;34m)\u001b[0m\u001b[0;34m\u001b[0m\u001b[0;34m\u001b[0m\u001b[0m\n\u001b[0m\u001b[1;32m     13\u001b[0m \u001b[0;34m\u001b[0m\u001b[0m\n\u001b[1;32m     14\u001b[0m \u001b[0;32mif\u001b[0m \u001b[0msexo\u001b[0m\u001b[0;34m==\u001b[0m\u001b[0;34m'M'\u001b[0m\u001b[0;34m:\u001b[0m\u001b[0;34m\u001b[0m\u001b[0;34m\u001b[0m\u001b[0m\n",
            "\u001b[0;32m/usr/local/lib/python3.10/dist-packages/ipykernel/kernelbase.py\u001b[0m in \u001b[0;36mraw_input\u001b[0;34m(self, prompt)\u001b[0m\n\u001b[1;32m    849\u001b[0m                 \u001b[0;34m\"raw_input was called, but this frontend does not support input requests.\"\u001b[0m\u001b[0;34m\u001b[0m\u001b[0;34m\u001b[0m\u001b[0m\n\u001b[1;32m    850\u001b[0m             )\n\u001b[0;32m--> 851\u001b[0;31m         return self._input_request(str(prompt),\n\u001b[0m\u001b[1;32m    852\u001b[0m             \u001b[0mself\u001b[0m\u001b[0;34m.\u001b[0m\u001b[0m_parent_ident\u001b[0m\u001b[0;34m,\u001b[0m\u001b[0;34m\u001b[0m\u001b[0;34m\u001b[0m\u001b[0m\n\u001b[1;32m    853\u001b[0m             \u001b[0mself\u001b[0m\u001b[0;34m.\u001b[0m\u001b[0m_parent_header\u001b[0m\u001b[0;34m,\u001b[0m\u001b[0;34m\u001b[0m\u001b[0;34m\u001b[0m\u001b[0m\n",
            "\u001b[0;32m/usr/local/lib/python3.10/dist-packages/ipykernel/kernelbase.py\u001b[0m in \u001b[0;36m_input_request\u001b[0;34m(self, prompt, ident, parent, password)\u001b[0m\n\u001b[1;32m    893\u001b[0m             \u001b[0;32mexcept\u001b[0m \u001b[0mKeyboardInterrupt\u001b[0m\u001b[0;34m:\u001b[0m\u001b[0;34m\u001b[0m\u001b[0;34m\u001b[0m\u001b[0m\n\u001b[1;32m    894\u001b[0m                 \u001b[0;31m# re-raise KeyboardInterrupt, to truncate traceback\u001b[0m\u001b[0;34m\u001b[0m\u001b[0;34m\u001b[0m\u001b[0m\n\u001b[0;32m--> 895\u001b[0;31m                 \u001b[0;32mraise\u001b[0m \u001b[0mKeyboardInterrupt\u001b[0m\u001b[0;34m(\u001b[0m\u001b[0;34m\"Interrupted by user\"\u001b[0m\u001b[0;34m)\u001b[0m \u001b[0;32mfrom\u001b[0m \u001b[0;32mNone\u001b[0m\u001b[0;34m\u001b[0m\u001b[0;34m\u001b[0m\u001b[0m\n\u001b[0m\u001b[1;32m    896\u001b[0m             \u001b[0;32mexcept\u001b[0m \u001b[0mException\u001b[0m \u001b[0;32mas\u001b[0m \u001b[0me\u001b[0m\u001b[0;34m:\u001b[0m\u001b[0;34m\u001b[0m\u001b[0;34m\u001b[0m\u001b[0m\n\u001b[1;32m    897\u001b[0m                 \u001b[0mself\u001b[0m\u001b[0;34m.\u001b[0m\u001b[0mlog\u001b[0m\u001b[0;34m.\u001b[0m\u001b[0mwarning\u001b[0m\u001b[0;34m(\u001b[0m\u001b[0;34m\"Invalid Message:\"\u001b[0m\u001b[0;34m,\u001b[0m \u001b[0mexc_info\u001b[0m\u001b[0;34m=\u001b[0m\u001b[0;32mTrue\u001b[0m\u001b[0;34m)\u001b[0m\u001b[0;34m\u001b[0m\u001b[0;34m\u001b[0m\u001b[0m\n",
            "\u001b[0;31mKeyboardInterrupt\u001b[0m: Interrupted by user"
          ]
        }
      ]
    },
    {
      "cell_type": "markdown",
      "source": [],
      "metadata": {
        "id": "dwKxHRdiW_7Q"
      }
    },
    {
      "cell_type": "code",
      "source": [
        "#teste de mesa com estrutura de repetição for\n",
        "#algoritmo para somar os números pares até 10 (variáveis acumuladoras)\n",
        "soma = 0\n",
        "for numero in range(10):\n",
        "    if (numero % 2) == 0:\n",
        "        soma += numero\n",
        "print(numero)\n",
        "print(soma)\n"
      ],
      "metadata": {
        "id": "28JTKiwVSmQE",
        "colab": {
          "base_uri": "https://localhost:8080/"
        },
        "outputId": "b7d28255-6066-4de5-f149-8797a47cdb7f"
      },
      "execution_count": 49,
      "outputs": [
        {
          "output_type": "stream",
          "name": "stdout",
          "text": [
            "9\n",
            "20\n"
          ]
        }
      ]
    },
    {
      "cell_type": "code",
      "source": [
        "#teste de mesa com variáveis contadoras\n",
        "#algoritmo para contar quantos múltiplos inteiros de 3 existem nos 20 primeiros números naturais\n",
        "noVerificados = 0\n",
        "noMultiplos = 0\n",
        "\n",
        "for numero in range(20):\n",
        "    noVerificados += 1\n",
        "    if (numero % 3) == 0:\n",
        "        noMultiplos += 1\n",
        "print(noVerificados)\n",
        "print(noMultiplos)\n"
      ],
      "metadata": {
        "colab": {
          "base_uri": "https://localhost:8080/"
        },
        "id": "XDV-OPedXk0t",
        "outputId": "6d79e7f2-2e9b-47eb-ae33-bc763fa9c655"
      },
      "execution_count": 51,
      "outputs": [
        {
          "output_type": "stream",
          "name": "stdout",
          "text": [
            "20\n",
            "7\n"
          ]
        }
      ]
    },
    {
      "cell_type": "code",
      "source": [
        "#cálculo do fatorial de um número\n",
        "numero = int(input('Digite o número que se deseja determinar o fatorial:'))\n",
        "\n",
        "fatorial = 1\n",
        "for termo in range(1, (numero + 1)):\n",
        "    fatorial *= termo\n",
        "\n",
        "print(\"O fatorial de \" +str(numero) + \"! é:\" + str(fatorial))\n"
      ],
      "metadata": {
        "colab": {
          "base_uri": "https://localhost:8080/"
        },
        "id": "7lKcMjwfB9lt",
        "outputId": "cd570f06-2d82-4ed7-a432-a9252170cf51"
      },
      "execution_count": 54,
      "outputs": [
        {
          "output_type": "stream",
          "name": "stdout",
          "text": [
            "Digite o número que se deseja determinar o fatorial:12\n",
            "O fatorial de 12! é:479001600\n"
          ]
        }
      ]
    }
  ]
}